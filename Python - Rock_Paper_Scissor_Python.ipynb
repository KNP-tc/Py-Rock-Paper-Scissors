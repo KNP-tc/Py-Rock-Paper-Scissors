{
  "nbformat": 4,
  "nbformat_minor": 0,
  "metadata": {
    "colab": {
      "name": "DataSci Bootcamp - Rock Paper Scissor - Python.ipynb",
      "provenance": []
    },
    "kernelspec": {
      "name": "python3",
      "display_name": "Python 3"
    },
    "language_info": {
      "name": "python"
    }
  },
  "cells": [
    {
      "cell_type": "markdown",
      "source": [
        "##DataSci Bootcamp Live10 - Python Programming: \n",
        "\n",
        "### Rock-Paper-Scissor game\n",
        "\n",
        "**Game Logics**\n",
        "- rock crushes scissors\n",
        "- paper covers rock\n",
        "- scissors cuts paper"
      ],
      "metadata": {
        "id": "MMhTHfN1O3Tr"
      }
    },
    {
      "cell_type": "code",
      "source": [
        "import random"
      ],
      "metadata": {
        "id": "yULBcSpvu0vx"
      },
      "execution_count": null,
      "outputs": []
    },
    {
      "cell_type": "code",
      "execution_count": null,
      "metadata": {
        "id": "G1JzkX8OONq5"
      },
      "outputs": [],
      "source": [
        "#RPS Logic\n",
        "\n",
        "supported_action = (\"rock\",\"paper\",\"scissors\")\n",
        "\n",
        "results = [\n",
        "          [\"win\",0],\n",
        "          [\"lose\",0],\n",
        "          [\"draw\",0]\n",
        "          ]\n",
        "\n",
        "while True:\n",
        "    user_action = input(\"Your Action (rock, paper, scissors or quit) <- \").lower()\n",
        "    random_action = random.sample(supported_action,1)\n",
        "    random_value = random_action[0]\n",
        "\n",
        "    if user_action in supported_action or user_action == \"quit\":\n",
        "        if user_action == \"quit\":\n",
        "            print(\"Goodbye XD\")\n",
        "            print(\"\"\"\n",
        "            RESULT SUMMARY\"\"\")\n",
        "            for result in results:\n",
        "                print(f\"\"\" \n",
        "                {result[0]} : {result[1]}\n",
        "                  \"\"\")\n",
        "            print(\"####################\")\n",
        "            break\n",
        "        elif random_value == user_action:\n",
        "            print(f\"Com Action: {random_value}\")\n",
        "            print(f\"Your Action: {user_action}\")\n",
        "            print(\"Result: Tie\")\n",
        "            results[2][1] = results[2][1] + 1\n",
        "        elif (random_value == \"rock\" and user_action == \"scissors\") or (random_value == \"paper\" and user_action == \"rock\") or  (random_value == \"scissors\" and user_action == \"paper\"):\n",
        "            print(f\"Com Action: {random_value}\")\n",
        "            print(f\"Your Action: {user_action}\")\n",
        "            print(\"Result: Lose\")\n",
        "            results[1][1] = results[1][1] + 1\n",
        "        else:\n",
        "            print(f\"Com Action: {random_value}\")\n",
        "            print(f\"Your Action: {user_action}\")\n",
        "            print(\"Result: Win\")\n",
        "            results[0][1] = results[0][1] + 1\n",
        "\n",
        "        for result in results:\n",
        "            print(f\"\"\"\n",
        "            {result[0]} : {result[1]}\n",
        "            \"\"\")\n",
        "        print(\"####################\")\n",
        "\n",
        "    else:\n",
        "        print(\"Incorrect action. Please try again.\")\n",
        "    \n",
        "\n"
      ]
    },
    {
      "cell_type": "code",
      "source": [
        ""
      ],
      "metadata": {
        "id": "aStat31Jy5Ir"
      },
      "execution_count": null,
      "outputs": []
    }
  ]
}